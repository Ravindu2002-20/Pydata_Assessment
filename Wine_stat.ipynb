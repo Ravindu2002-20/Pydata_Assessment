{
 "cells": [
  {
   "cell_type": "code",
   "execution_count": null,
   "metadata": {},
   "outputs": [],
   "source": [
    "import pandas as pd\n",
    "from pathlib import Path\n",
    "\n",
    "# Define the path to the CSV folder\n",
    "csv_path = Path(\"data\")\n",
    "dataframes = []\n",
    "\n",
    "csv_files = sorted(csv_path.glob(\"*.csv\"))[:8]\n",
    "\n",
    "for csv_file in csv_files:\n",
    "    print(f\"Loading: {csv_file.name}\")\n",
    "\n",
    "    # Assume comma-separated (standard CSV)\n",
    "    df = pd.read_csv(csv_file, encoding=\"utf-8\", sep=\",\")\n",
    "        \n",
    "    # Remove unnamed index columns (e.g., from Excel)\n",
    "    df = df.loc[:, ~df.columns.str.contains('^Unnamed')]\n",
    "        \n",
    "    # Clean up column names\n",
    "    df.columns = df.columns.str.strip()\n",
    "        \n",
    "    # Add a country column based on the file name\n",
    "    df['country'] = csv_file.stem.capitalize()\n",
    "\n",
    "    dataframes.append(df)\n",
    "\n",
    "    # Combine all DataFrames\n",
    "    wine_df = pd.concat(dataframes, ignore_index=True)\n",
    "\n",
    "    # Print the final result\n",
    "    with pd.option_context('display.max_rows', None, 'display.max_columns', None, 'display.width', 1000):\n",
    "        print(wine_df)\n"
   ]
  },
  {
   "cell_type": "code",
   "execution_count": null,
   "metadata": {},
   "outputs": [],
   "source": [
    "# 1. Examine structure and data types\n",
    "print(\"\\nDataFrame Info:\")\n",
    "print(wine_df.info())\n",
    "\n",
    "# Show basic stats\n",
    "print(\"\\nSummary Statistics:\")\n",
    "print(wine_df.describe(include='all'))\n",
    "\n",
    "# Show unique columns\n",
    "print(\"\\nColumns in the DataFrame:\")\n",
    "print(wine_df.columns.tolist())\n",
    "\n",
    "# 2. Remove duplicates\n",
    "before = wine_df.shape[0]\n",
    "wine_df = wine_df.drop_duplicates()\n",
    "after = wine_df.shape[0]\n",
    "print(f\"\\nRemoved {before - after} duplicate rows.\")\n",
    "\n",
    "# 3. Remove rows with any null values (NaNs)\n",
    "null_count = wine_df.isnull().sum().sum()\n",
    "print(f\"\\nTotal missing values before cleaning: {null_count}\")\n",
    "\n",
    "wine_df = wine_df.dropna()\n",
    "\n",
    "print(f\"Final shape after cleaning: {wine_df.shape}\")\n",
    "\n",
    "with pd.option_context('display.max_rows', None, 'display.max_columns', None, 'display.width', 1000):\n",
    "    print(wine_df)"
   ]
  }
 ],
 "metadata": {
  "kernelspec": {
   "display_name": "Python 3",
   "language": "python",
   "name": "python3"
  },
  "language_info": {
   "codemirror_mode": {
    "name": "ipython",
    "version": 3
   },
   "file_extension": ".py",
   "mimetype": "text/x-python",
   "name": "python",
   "nbconvert_exporter": "python",
   "pygments_lexer": "ipython3",
   "version": "3.11.0"
  }
 },
 "nbformat": 4,
 "nbformat_minor": 2
}
