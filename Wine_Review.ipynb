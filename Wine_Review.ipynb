# TASK 03: Deploying a HuggingFace Model

# Step 1: Install transformers if not already installed
!pip install transformers -q

# Step 2: Import libraries


import pandas as pd
from transformers import pipeline
import matplotlib.pyplot as plt

import torch
print(torch.__version__)
print(torch.cuda.is_available())  # Should be False (since you're using cpuonly)


# Step 3: Read the CSV file
# Make sure the CSV is in the same directory or adjust the path accordingly
url="https://raw.githubusercontent.com/Ravindu2002-20/Pydata_Assessment/refs/heads/main/Data/wine_review.csv"
df = pd.read_csv(url)

# Display the first few rows
df.head()

# Step 4: Load Zero-Shot Classification pipeline
# Using 'facebook/bart-large-mnli' because it is well-suited for zero-shot classification tasks
from transformers import pipeline
classifier = pipeline("zero-shot-classification", model="facebook/bart-large-mnli")
# Define the candidate labels
candidate_labels = [
    "talks about food combinations",
    "talks about taste",
    "talks about value for money",
    "other"
]

# Step 5: Classify reviews
# Create a function to classify each review
def classify_review(review):
    result = classifier(review, candidate_labels)
    return result['labels'][0]  # Get the top predicted label

# Apply the function to the "review" column
df['talks_about'] = df['review'].apply(classify_review)

# Step 6: Save the updated dataset
df.to_csv('wine_reviews_with_predictions.csv', index=False)

# Step 7: Visualize the distribution of categories
category_counts = df['talks_about'].value_counts()

plt.figure(figsize=(8,6))
category_counts.plot(kind='bar', color='skyblue')
plt.title('Distribution of Predicted Categories')
plt.xlabel('Category')
plt.ylabel('Number of Reviews')
plt.xticks(rotation=45)
plt.grid(axis='y')
plt.tight_layout()
plt.show()

