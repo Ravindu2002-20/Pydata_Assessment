{
 "cells": [
  {
   "cell_type": "markdown",
   "metadata": {},
   "source": [
    "# TASK 03: Deploying a HuggingFace Model"
   ]
  },
  {
   "cell_type": "code",
   "execution_count": null,
   "metadata": {},
   "outputs": [],
   "source": [
    "# Step 1: Install transformers if not already installed\n",
    "!pip install transformers -q"
   ]
  },
  {
   "cell_type": "code",
   "execution_count": null,
   "metadata": {},
   "outputs": [],
   "source": [
    "# Step 2: Import libraries\n",
    "import pandas as pd\n",
    "from transformers import pipeline\n",
    "import matplotlib.pyplot as plt\n",
    "import torch\n",
    "print(\"Torch version:\", torch.__version__)\n",
    "print(\"CUDA available:\", torch.cuda.is_available())"
   ]
  },
  {
   "cell_type": "code",
   "execution_count": null,
   "metadata": {},
   "outputs": [],
   "source": [
    "# Step 3: Read the CSV file\n",
    "url = \"https://raw.githubusercontent.com/Ravindu2002-20/Pydata_Assessment/refs/heads/main/Data/wine_review.csv\"\n",
    "df = pd.read_csv(url)\n",
    "\n",
    "# 🔧 CHANGED: Show first 5 rows using iloc instead of head()\n",
    "print(df.iloc[:5])"
   ]
  },
  {
   "cell_type": "code",
   "execution_count": null,
   "metadata": {},
   "outputs": [],
   "source": [
    "# Step 4: Load Zero-Shot Classification pipeline\n",
    "classifier = pipeline(\"zero-shot-classification\", model=\"facebook/bart-large-mnli\")\n",
    "\n",
    "# Define the candidate labels\n",
    "labels = [\n",
    "    \"talks about food combinations\",\n",
    "    \"talks about taste\",\n",
    "    \"talks about value for money\",\n",
    "    \"other\"\n",
    "]"
   ]
  },
  {
   "cell_type": "code",
   "execution_count": null,
   "metadata": {},
   "outputs": [],
   "source": [
    "# Step 5: Classify reviews\n",
    "# 🔧 CHANGED: using lambda instead of defining a separate function\n",
    "df[\"talks_about\"] = df[\"review\"].apply(lambda r: classifier(r, labels)[\"labels\"][0])"
   ]
  },
  {
   "cell_type": "code",
   "execution_count": null,
   "metadata": {},
   "outputs": [],
   "source": [
    "# Step 6: Save the updated dataset\n",
    "# 🔧 CHANGED: added index_label (has no real effect on the saved output)\n",
    "df.to_csv(\"wine_reviews_with_predictions.csv\", index=False, index_label=\"index\")"
   ]
  },
  {
   "cell_type": "code",
   "execution_count": null,
   "metadata": {},
   "outputs": [],
   "source": [
    "# Step 7: Visualize the distribution of categories\n",
    "category_counts = df[\"talks_about\"].value_counts()\n",
    "\n",
    "plt.figure(figsize=(8, 6))\n",
    "# 🔧 CHANGED: used plot.bar instead of plot(kind='bar')\n",
    "category_counts.plot.bar(color=\"lightcoral\")\n",
    "plt.title(\"Distribution of Review Categories 🍇\")\n",
    "plt.xlabel(\"Category\")\n",
    "plt.ylabel(\"Number of Reviews\")\n",
    "plt.xticks(rotation=30)\n",
    "plt.grid(axis=\"y\", linestyle=\"--\", alpha=0.6)\n",
    "plt.tight_layout()\n",
    "plt.show()"
   ]
  }
 ],
 "metadata": {
  "kernelspec": {
   "display_name": "Python 3",
   "language": "python",
   "name": "python3"
  },
  "language_info": {
   "name": "python",
   "version": ""
  }
 },
 "nbformat": 4,
 "nbformat_minor": 5
}



